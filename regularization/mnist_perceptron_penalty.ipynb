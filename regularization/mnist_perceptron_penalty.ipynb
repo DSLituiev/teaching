{
 "cells": [
  {
   "cell_type": "code",
   "execution_count": 1,
   "metadata": {
    "collapsed": true
   },
   "outputs": [],
   "source": [
    "# pip3 -U install keras"
   ]
  },
  {
   "cell_type": "code",
   "execution_count": 2,
   "metadata": {
    "collapsed": false
   },
   "outputs": [],
   "source": [
    "import pandas as pd\n",
    "import numpy as np\n",
    "import os\n",
    "np.random.seed(3)"
   ]
  },
  {
   "cell_type": "code",
   "execution_count": null,
   "metadata": {
    "collapsed": true
   },
   "outputs": [],
   "source": []
  },
  {
   "cell_type": "code",
   "execution_count": 3,
   "metadata": {
    "collapsed": false
   },
   "outputs": [],
   "source": [
    "from sklearn.model_selection import train_test_split\n",
    "from sklearn.preprocessing import OneHotEncoder, scale\n",
    "from sklearn.datasets import fetch_mldata\n",
    "mnist = fetch_mldata('MNIST original', \n",
    "                     data_home=os.path.join(os.environ[\"HOME\"],\"datasets\"))"
   ]
  },
  {
   "cell_type": "code",
   "execution_count": 4,
   "metadata": {
    "collapsed": false
   },
   "outputs": [
    {
     "data": {
      "text/plain": [
       "array([ 0.,  1.,  2.,  3.,  4.,  5.,  6.,  7.,  8.,  9.])"
      ]
     },
     "execution_count": 4,
     "metadata": {},
     "output_type": "execute_result"
    }
   ],
   "source": [
    "np.unique(mnist.target)"
   ]
  },
  {
   "cell_type": "code",
   "execution_count": 5,
   "metadata": {
    "collapsed": false
   },
   "outputs": [
    {
     "name": "stderr",
     "output_type": "stream",
     "text": [
      "/Users/dlituiev/repos/scikit-learn/sklearn/utils/validation.py:424: DataConversionWarning: Data with input dtype uint8 was converted to float64 by the scale function.\n",
      "  warnings.warn(msg, _DataConversionWarning)\n"
     ]
    }
   ],
   "source": [
    "enc = OneHotEncoder()\n",
    "onehot_target = enc.fit_transform( mnist.target.reshape(-1,1)).toarray()\n",
    "\n",
    "X_train, X_test, y_train, y_test = train_test_split(scale(mnist.data),\n",
    "                                                    onehot_target,\n",
    "                                                    test_size=0.5, random_state=3)"
   ]
  },
  {
   "cell_type": "code",
   "execution_count": 7,
   "metadata": {
    "collapsed": false,
    "scrolled": true
   },
   "outputs": [],
   "source": [
    "from keras.models import Sequential\n",
    "from keras.layers import Dense, Dropout, Activation\n",
    "from keras.optimizers import SGD, RMSprop\n",
    "import keras\n",
    "# keras.callbacks.TensorBoard(log_dir='./logs', histogram_freq=0, write_graph=True, write_images=False)\n",
    "\n",
    "batch_size = 128 #Number of images used in each optimization step\n",
    "nb_classes = 10 #One class per digit\n",
    "nb_epoch = 5 #Number of times the whole data is used to learn\n",
    "\n",
    "# dropout = 0.2\n",
    "model = Sequential()\n",
    "# Dense(64) is a fully-connected layer with 64 hidden units.\n",
    "# in the first layer, you must specify the expected input data shape:\n",
    "# here, 20-dimensional vectors.\n",
    "model.add(Dense(512, input_dim=784, init='uniform', activation='relu',\n",
    "                W_regularizer='l1l2'))\n",
    "model.add(Dense(512, init='uniform', activation='relu',\n",
    "                W_regularizer='l1l2'\n",
    "                ))\n",
    "model.add(Dense(10, init='uniform', activation='softmax'))\n",
    "\n",
    "sgd = SGD(lr=.01, decay=1e-6, momentum=0.9, nesterov=True)\n",
    "# rms = RMSprop()\n",
    "\n",
    "model.compile(loss='categorical_crossentropy',\n",
    "              optimizer=sgd,\n",
    "              metrics=['accuracy'])"
   ]
  },
  {
   "cell_type": "code",
   "execution_count": null,
   "metadata": {
    "collapsed": false
   },
   "outputs": [],
   "source": []
  },
  {
   "cell_type": "code",
   "execution_count": 8,
   "metadata": {
    "collapsed": true
   },
   "outputs": [],
   "source": [
    "class LossHistory(keras.callbacks.Callback):\n",
    "    def on_train_begin(self, logs={}):\n",
    "        self.tr_loss = []\n",
    "        self.tr_acc = []\n",
    "#         self.val_loss = []\n",
    "#         self.val_acc = []\n",
    "\n",
    "    def on_batch_end(self, batch, logs={}):\n",
    "        self.tr_loss.append(logs.get('loss'))\n",
    "        self.tr_acc.append(logs.get('acc'))\n",
    "#         self.val_loss.append(logs.get('val_loss'))\n",
    "#         self.val_acc.append(logs.get('val_acc'))\n",
    "#         print(logs)\n",
    "#         raise Exception\n",
    "#         assert (logs.get('val_loss')) is not None"
   ]
  },
  {
   "cell_type": "code",
   "execution_count": 9,
   "metadata": {
    "collapsed": false
   },
   "outputs": [
    {
     "name": "stdout",
     "output_type": "stream",
     "text": [
      "Train on 35000 samples, validate on 35000 samples\n",
      "Epoch 1/5\n",
      "35000/35000 [==============================] - 7s - loss: 17.4592 - acc: 0.1853 - val_loss: 2.3016 - val_acc: 0.1117\n",
      "Epoch 2/5\n",
      "35000/35000 [==============================] - 6s - loss: 2.8906 - acc: 0.1133 - val_loss: 2.3019 - val_acc: 0.1117\n",
      "Epoch 3/5\n",
      "35000/35000 [==============================] - 6s - loss: 2.8902 - acc: 0.1133 - val_loss: 2.3016 - val_acc: 0.1117\n",
      "Epoch 4/5\n",
      "35000/35000 [==============================] - 6s - loss: 2.8898 - acc: 0.1133 - val_loss: 2.3018 - val_acc: 0.1117\n",
      "Epoch 5/5\n",
      "35000/35000 [==============================] - 7s - loss: 2.8895 - acc: 0.1133 - val_loss: 2.3014 - val_acc: 0.1117\n",
      "34944/35000 [============================>.] - ETA: 0s"
     ]
    }
   ],
   "source": [
    "# history = LossHistory()\n",
    "mo = model.fit(X_train, y_train,\n",
    "          nb_epoch=nb_epoch,\n",
    "          batch_size=batch_size,\n",
    "          validation_data=(X_test, y_test),)\n",
    "\n",
    "#           callbacks=[history]\n",
    "\n",
    "score = model.evaluate(X_test, y_test, batch_size=batch_size)"
   ]
  },
  {
   "cell_type": "code",
   "execution_count": null,
   "metadata": {
    "collapsed": false
   },
   "outputs": [],
   "source": [
    "# mo.history\n",
    "# history.__dict__"
   ]
  },
  {
   "cell_type": "code",
   "execution_count": 10,
   "metadata": {
    "collapsed": false
   },
   "outputs": [
    {
     "data": {
      "text/plain": [
       "<matplotlib.legend.Legend at 0x1075e0518>"
      ]
     },
     "execution_count": 10,
     "metadata": {},
     "output_type": "execute_result"
    },
    {
     "data": {
      "image/png": "[encoded data removed]",
      "text/plain": [
       "<matplotlib.figure.Figure at 0x111579550>"
      ]
     },
     "metadata": {},
     "output_type": "display_data"
    }
   ],
   "source": [
    "import  matplotlib.pyplot as plt\n",
    "%matplotlib inline\n",
    "keys = [\"loss\", \"val_loss\"]\n",
    "colors = [\"r\",\"b\"]\n",
    "for key,cc in zip(keys, colors):\n",
    "    plt.plot(mo.history[key], c=cc, label=key, marker=\".\")\n",
    "#     plt.plot(mo.history[key], c=\"r\")\n",
    "plt.legend()"
   ]
  },
  {
   "cell_type": "code",
   "execution_count": null,
   "metadata": {
    "collapsed": true
   },
   "outputs": [],
   "source": []
  },
  {
   "cell_type": "code",
   "execution_count": null,
   "metadata": {
    "collapsed": false,
    "scrolled": false
   },
   "outputs": [],
   "source": [
    "import  matplotlib.pyplot as plt\n",
    "%matplotlib inline\n",
    "plt.plot(history.tr_loss, c=\"b\")\n",
    "# plt.plot(history.val_loss, c=\"r\")"
   ]
  }
 ],
 "metadata": {
  "kernelspec": {
   "display_name": "Python 3",
   "language": "python",
   "name": "python3"
  },
  "language_info": {
   "codemirror_mode": {
    "name": "ipython",
    "version": 3
   },
   "file_extension": ".py",
   "mimetype": "text/x-python",
   "name": "python",
   "nbconvert_exporter": "python",
   "pygments_lexer": "ipython3",
   "version": "3.5.1"
  }
 },
 "nbformat": 4,
 "nbformat_minor": 0
}
