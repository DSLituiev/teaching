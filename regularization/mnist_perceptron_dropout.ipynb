{
 "cells": [
  {
   "cell_type": "code",
   "execution_count": 1,
   "metadata": {
    "collapsed": true
   },
   "outputs": [],
   "source": [
    "import pandas as pd\n",
    "import numpy as np\n",
    "import os\n",
    "np.random.seed(42)"
   ]
  },
  {
   "cell_type": "code",
   "execution_count": 2,
   "metadata": {
    "collapsed": false
   },
   "outputs": [],
   "source": [
    "from sklearn.model_selection import train_test_split\n",
    "from sklearn.preprocessing import OneHotEncoder, scale\n",
    "from sklearn.datasets import fetch_mldata\n",
    "mnist = fetch_mldata('MNIST original', data_home=os.path.join(os.environ[\"HOME\"],\"datasets\"))"
   ]
  },
  {
   "cell_type": "code",
   "execution_count": 3,
   "metadata": {
    "collapsed": false
   },
   "outputs": [
    {
     "name": "stderr",
     "output_type": "stream",
     "text": [
      "/Users/dlituiev/repos/scikit-learn/sklearn/utils/validation.py:424: DataConversionWarning: Data with input dtype uint8 was converted to float64 by the scale function.\n",
      "  warnings.warn(msg, _DataConversionWarning)\n"
     ]
    }
   ],
   "source": [
    "enc = OneHotEncoder()\n",
    "onehot_target = enc.fit_transform( mnist.target.reshape(-1,1)).toarray()\n",
    "\n",
    "X_train, X_test, y_train, y_test = train_test_split(scale(mnist.data),\n",
    "                                                    onehot_target,\n",
    "                                                    test_size=0.25, random_state=3)\n",
    "#     mnist.target"
   ]
  },
  {
   "cell_type": "code",
   "execution_count": 4,
   "metadata": {
    "collapsed": false
   },
   "outputs": [
    {
     "name": "stderr",
     "output_type": "stream",
     "text": [
      "Using Theano backend.\n"
     ]
    }
   ],
   "source": [
    "from keras.models import Sequential\n",
    "from keras.layers import Dense, Dropout, Activation\n",
    "from keras.optimizers import SGD, RMSprop\n",
    "import keras\n",
    "\n",
    "batch_size = 128 #Number of images used in each optimization step\n",
    "nb_classes = 10 #One class per digit\n",
    "\n",
    "dropout = 0.5\n",
    "model = Sequential()\n",
    "# Dense(64) is a fully-connected layer with 64 hidden units.\n",
    "# in the first layer, you must specify the expected input data shape:\n",
    "# here, 20-dimensional vectors.\n",
    "model.add(Dense(512, input_dim=784, init='uniform', activation='relu'))\n",
    "model.add(Dropout(dropout))\n",
    "model.add(Dense(512, init='uniform', activation='relu'))\n",
    "model.add(Dropout(dropout))\n",
    "model.add(Dense(10, init='uniform', activation='softmax'))\n",
    "\n",
    "# sgd = SGD(lr=.1, decay=1e-6, momentum=0.9, nesterov=True)\n",
    "rms = RMSprop()\n",
    "model.compile(loss='categorical_crossentropy',\n",
    "              optimizer=rms,\n",
    "              metrics=['accuracy'])"
   ]
  },
  {
   "cell_type": "code",
   "execution_count": 5,
   "metadata": {
    "collapsed": false
   },
   "outputs": [],
   "source": [
    "class LossHistory(keras.callbacks.Callback):\n",
    "    def on_train_begin(self, logs={}):\n",
    "        self.loss = []\n",
    "        self.accuracy = []\n",
    "\n",
    "    def on_batch_end(self, batch, logs={}):\n",
    "        self.loss.append(logs.get('loss'))\n",
    "        self.accuracy.append(logs.get('acc'))"
   ]
  },
  {
   "cell_type": "code",
   "execution_count": 6,
   "metadata": {
    "collapsed": false
   },
   "outputs": [
    {
     "name": "stdout",
     "output_type": "stream",
     "text": [
      "Train on 52500 samples, validate on 17500 samples\n",
      "Epoch 1/10\n",
      "52500/52500 [==============================] - 9s - loss: 0.3334 - acc: 0.9028 - val_loss: 0.1755 - val_acc: 0.9510\n",
      "Epoch 2/10\n",
      "52500/52500 [==============================] - 9s - loss: 0.2136 - acc: 0.9434 - val_loss: 0.1571 - val_acc: 0.9576\n",
      "Epoch 3/10\n",
      "52500/52500 [==============================] - 9s - loss: 0.1978 - acc: 0.9509 - val_loss: 0.1597 - val_acc: 0.9607\n",
      "Epoch 4/10\n",
      "52500/52500 [==============================] - 9s - loss: 0.1924 - acc: 0.9565 - val_loss: 0.1465 - val_acc: 0.9651\n",
      "Epoch 5/10\n",
      "52500/52500 [==============================] - 9s - loss: 0.1999 - acc: 0.9579 - val_loss: 0.1629 - val_acc: 0.9671\n",
      "Epoch 6/10\n",
      "52500/52500 [==============================] - 10s - loss: 0.1981 - acc: 0.9600 - val_loss: 0.1669 - val_acc: 0.9690\n",
      "Epoch 7/10\n",
      "52500/52500 [==============================] - 9s - loss: 0.2219 - acc: 0.9602 - val_loss: 0.1741 - val_acc: 0.9681\n",
      "Epoch 8/10\n",
      "52500/52500 [==============================] - 8s - loss: 0.2328 - acc: 0.9600 - val_loss: 0.1855 - val_acc: 0.9683\n",
      "Epoch 9/10\n",
      "52500/52500 [==============================] - 10s - loss: 0.2311 - acc: 0.9623 - val_loss: 0.1762 - val_acc: 0.9706\n",
      "Epoch 10/10\n",
      "52500/52500 [==============================] - 8s - loss: 0.2424 - acc: 0.9622 - val_loss: 0.2050 - val_acc: 0.9698\n",
      "17408/17500 [============================>.] - ETA: 0s"
     ]
    }
   ],
   "source": [
    "nb_epoch = 10 #Number of times the whole data is used to learn\n",
    "history = LossHistory()\n",
    "mo = model.fit(X_train, y_train,\n",
    "          nb_epoch=nb_epoch,\n",
    "          batch_size=batch_size,\n",
    "          validation_data=(X_test, y_test))\n",
    "\n",
    "score = model.evaluate(X_test, y_test, batch_size=batch_size)"
   ]
  },
  {
   "cell_type": "code",
   "execution_count": null,
   "metadata": {
    "collapsed": true
   },
   "outputs": [],
   "source": []
  },
  {
   "cell_type": "code",
   "execution_count": 7,
   "metadata": {
    "collapsed": false
   },
   "outputs": [
    {
     "data": {
      "text/plain": [
       "<matplotlib.legend.Legend at 0x1115326a0>"
      ]
     },
     "execution_count": 7,
     "metadata": {},
     "output_type": "execute_result"
    },
    {
     "data": {
      "image/png": "[encoded data removed]",
      "text/plain": [
       "<matplotlib.figure.Figure at 0x1115329b0>"
      ]
     },
     "metadata": {},
     "output_type": "display_data"
    }
   ],
   "source": [
    "import  matplotlib.pyplot as plt\n",
    "%matplotlib inline\n",
    "keys = [\"loss\", \"val_loss\"]\n",
    "colors = [\"r\",\"b\"]\n",
    "for key,cc in zip(keys, colors):\n",
    "    plt.plot(mo.history[key], c=cc, label=key, marker=\".\")\n",
    "#     plt.plot(mo.history[key], c=\"r\")\n",
    "plt.legend()"
   ]
  },
  {
   "cell_type": "code",
   "execution_count": 8,
   "metadata": {
    "collapsed": false
   },
   "outputs": [
    {
     "data": {
      "text/plain": [
       "<matplotlib.legend.Legend at 0x11395e550>"
      ]
     },
     "execution_count": 8,
     "metadata": {},
     "output_type": "execute_result"
    },
    {
     "data": {
      "image/png": "[encoded data removed]",
      "text/plain": [
       "<matplotlib.figure.Figure at 0x113a4b198>"
      ]
     },
     "metadata": {},
     "output_type": "display_data"
    }
   ],
   "source": [
    "import  matplotlib.pyplot as plt\n",
    "%matplotlib inline\n",
    "keys = [\"acc\", \"val_acc\"]\n",
    "colors = [\"r\",\"b\"]\n",
    "for key,cc in zip(keys, colors):\n",
    "    plt.plot(mo.history[key], c=cc, label=key, marker=\".\")\n",
    "#     plt.plot(mo.history[key], c=\"r\")\n",
    "plt.legend()"
   ]
  }
 ],
 "metadata": {
  "kernelspec": {
   "display_name": "Python 3",
   "language": "python",
   "name": "python3"
  },
  "language_info": {
   "codemirror_mode": {
    "name": "ipython",
    "version": 3
   },
   "file_extension": ".py",
   "mimetype": "text/x-python",
   "name": "python",
   "nbconvert_exporter": "python",
   "pygments_lexer": "ipython3",
   "version": "3.5.1"
  }
 },
 "nbformat": 4,
 "nbformat_minor": 0
}
