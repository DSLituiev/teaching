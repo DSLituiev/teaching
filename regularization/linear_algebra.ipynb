{
 "cells": [
  {
   "cell_type": "markdown",
   "metadata": {
    "collapsed": false
   },
   "source": [
    "## Linear algebra: \n",
    "\n",
    "$N = P$ and $N<P$ cases\n",
    "\n",
    "$$y_n = \\sum_k b_j \\cdot x_{jn} + \\epsilon_n $$"
   ]
  },
  {
   "cell_type": "markdown",
   "metadata": {},
   "source": [
    "OLS solution:\n",
    "$$ \\mathbf{\\hat{\\beta}} = (X'X)^{-1} X' \\mathbf{y} $$"
   ]
  },
  {
   "cell_type": "markdown",
   "metadata": {},
   "source": [
    "### Definition: \n",
    "\n",
    "Set of _linearly independent_ vectors is a set, where none of the elements can be expressed as a linear combination of any vectors from this subset.\n",
    "\n",
    "Given vectors $\\mathbf{x}_1, \\mathbf{x}_2, \\ldots \\mathbf{x}_P$, there is no vector $\\mathbf{x}_j$ that can be composed as \n",
    "    $$\\mathbf{x}_p = \\sum_{j=1}^{J<P} \\mathbf{x}_j$$\n",
    "\n",
    "### Theorem:\n",
    "\n",
    "In a set of vectors of dimensionality $P$, there can be at most $P$ linearly independent vectors.\n",
    "\n",
    "## Applied to linear regression:\n",
    "\n",
    "Therefore in $ N \\times P $ matrix, there will be at most $P$ linearly independent vectors.\n"
   ]
  },
  {
   "cell_type": "code",
   "execution_count": null,
   "metadata": {
    "collapsed": true
   },
   "outputs": [],
   "source": []
  },
  {
   "cell_type": "markdown",
   "metadata": {},
   "source": [
    "### From linear algebra perspective:\n",
    "\n",
    "the system of equations is sloppy, it admits multiple solutions"
   ]
  }
 ],
 "metadata": {
  "kernelspec": {
   "display_name": "Python 3",
   "language": "python",
   "name": "python3"
  },
  "language_info": {
   "codemirror_mode": {
    "name": "ipython",
    "version": 3
   },
   "file_extension": ".py",
   "mimetype": "text/x-python",
   "name": "python",
   "nbconvert_exporter": "python",
   "pygments_lexer": "ipython3",
   "version": "3.5.1"
  }
 },
 "nbformat": 4,
 "nbformat_minor": 0
}
