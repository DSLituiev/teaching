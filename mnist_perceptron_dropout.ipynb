{
 "cells": [
  {
   "cell_type": "code",
   "execution_count": 1,
   "metadata": {
    "collapsed": true
   },
   "outputs": [],
   "source": [
    "import pandas as pd\n",
    "import numpy as np\n",
    "import os\n",
    "np.random.seed(42)"
   ]
  },
  {
   "cell_type": "code",
   "execution_count": 2,
   "metadata": {
    "collapsed": false
   },
   "outputs": [],
   "source": [
    "from sklearn.model_selection import train_test_split\n",
    "from sklearn.preprocessing import OneHotEncoder\n",
    "from sklearn.datasets import fetch_mldata\n",
    "mnist = fetch_mldata('MNIST original', data_home=os.path.join(os.environ[\"HOME\"],\"datasets\"))"
   ]
  },
  {
   "cell_type": "code",
   "execution_count": 3,
   "metadata": {
    "collapsed": false
   },
   "outputs": [],
   "source": [
    "enc = OneHotEncoder()\n",
    "onehot_target = enc.fit_transform( mnist.target.reshape(-1,1)).toarray()\n",
    "\n",
    "X_train, X_test, y_train, y_test = train_test_split(mnist.data,\n",
    "                                                    onehot_target,\n",
    "                                                    test_size=0.25, random_state=3)\n",
    "#     mnist.target"
   ]
  },
  {
   "cell_type": "code",
   "execution_count": 6,
   "metadata": {
    "collapsed": false
   },
   "outputs": [],
   "source": [
    "from keras.models import Sequential\n",
    "from keras.layers import Dense, Dropout, Activation\n",
    "from keras.optimizers import SGD, RMSprop\n",
    "import keras\n",
    "\n",
    "batch_size = 128 #Number of images used in each optimization step\n",
    "nb_classes = 10 #One class per digit\n",
    "nb_epoch = 5 #Number of times the whole data is used to learn\n",
    "\n",
    "dropout = 0.2\n",
    "model = Sequential()\n",
    "# Dense(64) is a fully-connected layer with 64 hidden units.\n",
    "# in the first layer, you must specify the expected input data shape:\n",
    "# here, 20-dimensional vectors.\n",
    "model.add(Dense(512, input_dim=784, init='uniform', activation='relu'))\n",
    "model.add(Dropout(dropout))\n",
    "model.add(Dense(512, init='uniform', activation='relu'))\n",
    "model.add(Dropout(dropout))\n",
    "model.add(Dense(10, init='uniform', activation='softmax'))\n",
    "\n",
    "# sgd = SGD(lr=.1, decay=1e-6, momentum=0.9, nesterov=True)\n",
    "rms = RMSprop()\n",
    "model.compile(loss='categorical_crossentropy',\n",
    "              optimizer=rms,\n",
    "              metrics=['accuracy'])"
   ]
  },
  {
   "cell_type": "code",
   "execution_count": 7,
   "metadata": {
    "collapsed": false
   },
   "outputs": [],
   "source": [
    "class LossHistory(keras.callbacks.Callback):\n",
    "    def on_train_begin(self, logs={}):\n",
    "        self.loss = []\n",
    "        self.accuracy = []\n",
    "\n",
    "    def on_batch_end(self, batch, logs={}):\n",
    "        self.loss.append(logs.get('loss'))\n",
    "        self.accuracy.append(logs.get('acc'))"
   ]
  },
  {
   "cell_type": "code",
   "execution_count": 8,
   "metadata": {
    "collapsed": false
   },
   "outputs": [
    {
     "name": "stdout",
     "output_type": "stream",
     "text": [
      "Train on 52500 samples, validate on 17500 samples\n",
      "Epoch 1/5\n",
      "52500/52500 [==============================] - 10s - loss: 10.0148 - acc: 0.3770 - val_loss: 9.7036 - val_acc: 0.3975\n",
      "Epoch 2/5\n",
      "52500/52500 [==============================] - 10s - loss: 9.9818 - acc: 0.3800 - val_loss: 9.9729 - val_acc: 0.3808\n",
      "Epoch 3/5\n",
      "52500/52500 [==============================] - 14s - loss: 10.0558 - acc: 0.3756 - val_loss: 9.9400 - val_acc: 0.3831\n",
      "Epoch 4/5\n",
      "52500/52500 [==============================] - 16s - loss: 10.0004 - acc: 0.3792 - val_loss: 9.9279 - val_acc: 0.3838\n",
      "Epoch 5/5\n",
      "52500/52500 [==============================] - 17s - loss: 10.0236 - acc: 0.3778 - val_loss: 9.9236 - val_acc: 0.3842\n",
      "17408/17500 [============================>.] - ETA: 0s"
     ]
    }
   ],
   "source": [
    "history = LossHistory()\n",
    "model.fit(X_train, y_train,\n",
    "          nb_epoch=nb_epoch,\n",
    "          batch_size=batch_size,\n",
    "          validation_data=(X_test, y_test),\n",
    "          callbacks=[history])\n",
    "\n",
    "score = model.evaluate(X_test, y_test, batch_size=batch_size)"
   ]
  },
  {
   "cell_type": "code",
   "execution_count": null,
   "metadata": {
    "collapsed": true
   },
   "outputs": [],
   "source": []
  }
 ],
 "metadata": {
  "kernelspec": {
   "display_name": "Python 3",
   "language": "python",
   "name": "python3"
  },
  "language_info": {
   "codemirror_mode": {
    "name": "ipython",
    "version": 3
   },
   "file_extension": ".py",
   "mimetype": "text/x-python",
   "name": "python",
   "nbconvert_exporter": "python",
   "pygments_lexer": "ipython3",
   "version": "3.5.1"
  }
 },
 "nbformat": 4,
 "nbformat_minor": 0
}
